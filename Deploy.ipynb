{
 "cells": [
  {
   "cell_type": "markdown",
   "id": "bfe7740b-3ea6-4107-8610-06149f026a4e",
   "metadata": {},
   "source": [
    "# Deployment and Organization\n"
   ]
  },
  {
   "cell_type": "markdown",
   "id": "86caf4b7-6bf1-46f4-9f30-cf3ce4aa97af",
   "metadata": {},
   "source": [
    "## Serving a model from Registry"
   ]
  },
  {
   "cell_type": "code",
   "execution_count": null,
   "id": "204e595a-d1a2-412d-b596-6605304e92ba",
   "metadata": {},
   "outputs": [],
   "source": [
    "#!/usr/bin/env sh\n",
    "\n",
    "# Set environment variable for the tracking URL where the Model Registry resides\n",
    "export MLFLOW_TRACKING_URI=http://localhost:5000\n",
    "\n",
    "# Serve the production model from the model registry\n",
    "mlflow models serve -m \"models:/sk-learn-random-forest-reg-model@champion\""
   ]
  },
  {
   "cell_type": "markdown",
   "id": "c947a004-d934-4d8f-8159-9f912628e881",
   "metadata": {},
   "source": [
    "## Promoting across environments"
   ]
  },
  {
   "cell_type": "markdown",
   "id": "3f821e04-7236-4bed-89b3-ebb10fb1168e",
   "metadata": {},
   "source": [
    "Register models to set up envronments for your MLflow Models. We can promote Models across environments."
   ]
  },
  {
   "cell_type": "code",
   "execution_count": null,
   "id": "e466ecc0-085f-49af-a5b6-3a2542902ec2",
   "metadata": {},
   "outputs": [],
   "source": [
    "from mlflow import MlflowClient\n",
    "\n",
    "client = MlflowClient()\n",
    "client.copy_model_version(\n",
    "    src_model_uri=\"models:/regression-model-staging@candidate\",\n",
    "    dst_name=\"regression-model-production\",\n",
    ")"
   ]
  },
  {
   "cell_type": "markdown",
   "id": "5a15a1c1-2b3a-474a-ac50-658a7d14013b",
   "metadata": {},
   "source": [
    "## Command Line Interface"
   ]
  },
  {
   "cell_type": "code",
   "execution_count": null,
   "id": "810f1197-7917-4cb7-8e63-d9a0fe589886",
   "metadata": {},
   "outputs": [],
   "source": [
    "mlflow models --help\n",
    "mlflow models serve --help\n",
    "mlflow models predict --help\n",
    "mlflow models build-docker --help"
   ]
  },
  {
   "cell_type": "markdown",
   "id": "ec512dea-266e-437c-96bd-355b79a4285c",
   "metadata": {},
   "source": [
    "## Deployment on SageMaker"
   ]
  },
  {
   "cell_type": "markdown",
   "id": "d0911157-428e-4c18-a5a3-91ab4901cc0d",
   "metadata": {},
   "source": [
    "`mlflow deployments run-local -t sagemaker` deploys the model locally in a Docker container."
   ]
  },
  {
   "cell_type": "markdown",
   "id": "68ff98bb-2d2c-45fc-ae97-f1ccf6c68c76",
   "metadata": {},
   "source": [
    "`mlflow sagemaker build-and-push-container` builds an MLfLow Docker image and uploads it to ECR. "
   ]
  },
  {
   "cell_type": "markdown",
   "id": "9fad52e2-d161-4a8c-8911-247aacf6272f",
   "metadata": {},
   "source": [
    "`mlflow deployments create -t sagemaker` deploys the model on Amazon SageMaker. MLflow uploads the Python Function model into S3 and starts an Amazon SageMaker endpoint serving the model."
   ]
  },
  {
   "cell_type": "raw",
   "id": "0f17a797-ee63-41d2-8fec-71585f06944b",
   "metadata": {},
   "source": [
    "mlflow sagemaker build-and-push-container  # build the container (only needs to be called once)\n",
    "mlflow deployments run-local -t sagemaker --name <deployment-name> -m <path-to-model>  # test the model locally\n",
    "mlflow deployments sagemaker create -t  # deploy the model remotely"
   ]
  },
  {
   "cell_type": "code",
   "execution_count": null,
   "id": "77afd7f4-b3c5-4539-8fcd-3f7f089ef861",
   "metadata": {},
   "outputs": [],
   "source": []
  }
 ],
 "metadata": {
  "kernelspec": {
   "display_name": "Python 3 (ipykernel)",
   "language": "python",
   "name": "python3"
  },
  "language_info": {
   "codemirror_mode": {
    "name": "ipython",
    "version": 3
   },
   "file_extension": ".py",
   "mimetype": "text/x-python",
   "name": "python",
   "nbconvert_exporter": "python",
   "pygments_lexer": "ipython3",
   "version": "3.10.12"
  }
 },
 "nbformat": 4,
 "nbformat_minor": 5
}
