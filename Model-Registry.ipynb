{
 "cells": [
  {
   "cell_type": "markdown",
   "id": "c419459b-c599-4e9d-94bb-d43471fbd961",
   "metadata": {},
   "source": [
    "# MLFlow"
   ]
  },
  {
   "cell_type": "markdown",
   "id": "5b6dc6d6-d5d1-43b0-b422-d72ee9b94f76",
   "metadata": {},
   "source": [
    "## Model Registry"
   ]
  },
  {
   "cell_type": "code",
   "execution_count": null,
   "id": "9cf3b82d-fe58-4c7b-8995-a4b8e8dac47f",
   "metadata": {},
   "outputs": [],
   "source": [
    "from sklearn.datasets import make_regression\n",
    "from sklearn.ensemble import RandomForestRegressor\n",
    "from sklearn.metrics import mean_squared_error\n",
    "from sklearn.model_selection import train_test_split\n",
    "\n",
    "import mlflow\n",
    "import mlflow.sklearn\n",
    "from mlflow.models import infer_signature\n",
    "\n",
    "with mlflow.start_run() as run:\n",
    "    X, y = make_regression(n_features=4, n_informative=2, random_state=0, shuffle=False)\n",
    "    X_train, X_test, y_train, y_test = train_test_split(\n",
    "        X, y, test_size=0.2, random_state=42\n",
    "    )\n",
    "    params = {\"max_depth\": 2, \"random_state\": 42}\n",
    "    model = RandomForestRegressor(**params)\n",
    "    model.fit(X_train, y_train)\n",
    "\n",
    "    # Infer the model signature\n",
    "    y_pred = model.predict(X_test)\n",
    "    signature = infer_signature(X_test, y_pred)\n",
    "\n",
    "    # Log parameters and metrics using the MLflow APIs\n",
    "    mlflow.log_params(params)\n",
    "    mlflow.log_metrics({\"mse\": mean_squared_error(y_test, y_pred)})\n",
    "\n",
    "    # Log the sklearn model and register as version 1\n",
    "    mlflow.sklearn.log_model(\n",
    "        sk_model=model,\n",
    "        artifact_path=\"sklearn-model\",\n",
    "        signature=signature,\n",
    "        registered_model_name=\"sk-learn-random-forest-reg-model\",\n",
    "    )"
   ]
  },
  {
   "cell_type": "markdown",
   "id": "5eee44e2-3bcb-49f3-bdfc-bdfc1d38650d",
   "metadata": {},
   "source": [
    "If i want to register after the experiment runs use this."
   ]
  },
  {
   "cell_type": "code",
   "execution_count": null,
   "id": "770e4edf-9013-4fb6-aab5-bdb6123d8857",
   "metadata": {},
   "outputs": [],
   "source": [
    "result = mlflow.register_model(\n",
    "    \"runs:/d16076a3ec534311817565e6527539c0/sklearn-model\", \"sk-learn-random-forest-reg\"\n",
    ")"
   ]
  },
  {
   "cell_type": "markdown",
   "id": "4b1365e3-aaa7-43ee-970a-a1958fe81e2b",
   "metadata": {},
   "source": [
    "To register for sure a new model"
   ]
  },
  {
   "cell_type": "code",
   "execution_count": null,
   "id": "12e885bb-6581-4e5a-be8e-66216e309b28",
   "metadata": {},
   "outputs": [],
   "source": [
    "from mlflow import MlflowClient\n",
    "\n",
    "client = MlflowClient()\n",
    "client.create_registered_model(\"sk-learn-random-forest-reg-model\")"
   ]
  },
  {
   "cell_type": "code",
   "execution_count": null,
   "id": "edd78db3-d586-46a3-82b2-dd332f7ab07b",
   "metadata": {},
   "outputs": [],
   "source": [
    "#version\n",
    "client = MlflowClient()\n",
    "result = client.create_model_version(\n",
    "    name=\"sk-learn-random-forest-reg-model\",\n",
    "    source=\"mlruns/0/d16076a3ec534311817565e6527539c0/artifacts/sklearn-model\",\n",
    "    run_id=\"d16076a3ec534311817565e6527539c0\",\n",
    ")"
   ]
  },
  {
   "cell_type": "markdown",
   "id": "3cba1b61-9fd7-4d78-af99-41708ccfaf7c",
   "metadata": {},
   "source": [
    "## Fetching from model registry"
   ]
  },
  {
   "cell_type": "code",
   "execution_count": null,
   "id": "ae919bf7-d102-4dee-b138-18ec348b6121",
   "metadata": {},
   "outputs": [],
   "source": [
    "import mlflow.pyfunc\n",
    "\n",
    "model_name = \"sk-learn-random-forest-reg-model\"\n",
    "model_version = 1\n",
    "\n",
    "model = mlflow.pyfunc.load_model(model_uri=f\"models:/{model_name}/{model_version}\")\n",
    "\n",
    "model.predict(data)"
   ]
  },
  {
   "cell_type": "code",
   "execution_count": null,
   "id": "44af586a-c8b5-4b4a-83c8-479deb8cab62",
   "metadata": {},
   "outputs": [],
   "source": [
    "# By alias\n",
    "import mlflow.pyfunc\n",
    "\n",
    "model_name = \"sk-learn-random-forest-reg-model\"\n",
    "alias = \"champion\"\n",
    "\n",
    "champion_version = mlflow.pyfunc.load_model(f\"models:/{model_name}@{alias}\")\n",
    "\n",
    "champion_version.predict(data)"
   ]
  },
  {
   "cell_type": "markdown",
   "id": "b48dd7ac-4f02-4b62-8606-5911161860f2",
   "metadata": {},
   "source": [
    "## Register Custom model"
   ]
  },
  {
   "cell_type": "code",
   "execution_count": null,
   "id": "8f373d98-a12a-4ee0-8215-2fe94ef3dfdb",
   "metadata": {},
   "outputs": [],
   "source": [
    "import mlflow\n",
    "from mlflow.models import infer_signature\n",
    "import numpy as np\n",
    "from sklearn import datasets\n",
    "\n",
    "# load the model into memory\n",
    "loaded_model = pickle.load(open(filename, \"rb\"))\n",
    "\n",
    "# create a signature for the model based on the input and output data\n",
    "diabetes_X, diabetes_y = datasets.load_diabetes(return_X_y=True)\n",
    "diabetes_X = diabetes_X[:, np.newaxis, 2]\n",
    "signature = infer_signature(diabetes_X, diabetes_y)\n",
    "\n",
    "# log and register the model using MLflow scikit-learn API\n",
    "mlflow.set_tracking_uri(\"sqlite:///mlruns.db\")\n",
    "reg_model_name = \"SklearnLinearRegression\"\n",
    "print(\"--\")\n",
    "mlflow.sklearn.log_model(\n",
    "    loaded_model,\n",
    "    \"sk_learn\",\n",
    "    serialization_format=\"cloudpickle\",\n",
    "    signature=signature,\n",
    "    registered_model_name=reg_model_name,\n",
    ")"
   ]
  },
  {
   "cell_type": "markdown",
   "id": "9f46a6d4-e3dd-4e37-8e59-606239abaa4d",
   "metadata": {},
   "source": [
    "## Continue fitting model from MLflow"
   ]
  },
  {
   "cell_type": "code",
   "execution_count": null,
   "id": "39d50909-a5c4-43fe-ba18-da248a0c26e9",
   "metadata": {},
   "outputs": [],
   "source": [
    "import mlflow.keras\n",
    " \n",
    "model = mlflow.keras.load_model(\"model_uri\")\n",
    "# Freeze the layers of the loaded model that you don't want to retrain.\n",
    "for layer in model.layers[:-5]:\n",
    "    layer.trainable = False\n",
    "# Compile the model with the desired learning rate and optimizer.\n",
    "from tensorflow.keras.optimizers import Adam\n",
    " \n",
    "optimizer = Adam(lr=0.0001)\n",
    "model.compile(loss=\"categorical_crossentropy\", optimizer=optimizer, metrics=[\"accuracy\"])\n",
    "#Continue training the model with the new data. Use the fit method to continue training the model.\n",
    "\n",
    "model.fit(new_X_train, new_y_train, epochs=10, batch_size=32, validation_data=(X_val, y_val))\n"
   ]
  }
 ],
 "metadata": {
  "kernelspec": {
   "display_name": "Python 3 (ipykernel)",
   "language": "python",
   "name": "python3"
  },
  "language_info": {
   "codemirror_mode": {
    "name": "ipython",
    "version": 3
   },
   "file_extension": ".py",
   "mimetype": "text/x-python",
   "name": "python",
   "nbconvert_exporter": "python",
   "pygments_lexer": "ipython3",
   "version": "3.10.12"
  }
 },
 "nbformat": 4,
 "nbformat_minor": 5
}
