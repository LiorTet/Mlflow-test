{
 "cells": [
  {
   "cell_type": "markdown",
   "id": "c419459b-c599-4e9d-94bb-d43471fbd961",
   "metadata": {},
   "source": [
    "# MLFlow"
   ]
  },
  {
   "cell_type": "markdown",
   "id": "5b6dc6d6-d5d1-43b0-b422-d72ee9b94f76",
   "metadata": {},
   "source": [
    "## Model Registry"
   ]
  },
  {
   "cell_type": "code",
   "execution_count": null,
   "id": "9cf3b82d-fe58-4c7b-8995-a4b8e8dac47f",
   "metadata": {},
   "outputs": [],
   "source": [
    "from sklearn.datasets import make_regression\n",
    "from sklearn.ensemble import RandomForestRegressor\n",
    "from sklearn.metrics import mean_squared_error\n",
    "from sklearn.model_selection import train_test_split\n",
    "\n",
    "import mlflow\n",
    "import mlflow.sklearn\n",
    "from mlflow.models import infer_signature\n",
    "\n",
    "with mlflow.start_run() as run:\n",
    "    X, y = make_regression(n_features=4, n_informative=2, random_state=0, shuffle=False)\n",
    "    X_train, X_test, y_train, y_test = train_test_split(\n",
    "        X, y, test_size=0.2, random_state=42\n",
    "    )\n",
    "    params = {\"max_depth\": 2, \"random_state\": 42}\n",
    "    model = RandomForestRegressor(**params)\n",
    "    model.fit(X_train, y_train)\n",
    "\n",
    "    # Infer the model signature\n",
    "    y_pred = model.predict(X_test)\n",
    "    signature = infer_signature(X_test, y_pred)\n",
    "\n",
    "    # Log parameters and metrics using the MLflow APIs\n",
    "    mlflow.log_params(params)\n",
    "    mlflow.log_metrics({\"mse\": mean_squared_error(y_test, y_pred)})\n",
    "\n",
    "    # Log the sklearn model and register as version 1\n",
    "    mlflow.sklearn.log_model(\n",
    "        sk_model=model,\n",
    "        artifact_path=\"sklearn-model\",\n",
    "        signature=signature,\n",
    "        registered_model_name=\"sk-learn-random-forest-reg-model\",\n",
    "    )"
   ]
  },
  {
   "cell_type": "markdown",
   "id": "5eee44e2-3bcb-49f3-bdfc-bdfc1d38650d",
   "metadata": {},
   "source": [
    "If i want to register after the experiment runs use this."
   ]
  },
  {
   "cell_type": "code",
   "execution_count": null,
   "id": "770e4edf-9013-4fb6-aab5-bdb6123d8857",
   "metadata": {},
   "outputs": [],
   "source": [
    "result = mlflow.register_model(\n",
    "    \"runs:/d16076a3ec534311817565e6527539c0/sklearn-model\", \"sk-learn-random-forest-reg\"\n",
    ")"
   ]
  },
  {
   "cell_type": "markdown",
   "id": "4b1365e3-aaa7-43ee-970a-a1958fe81e2b",
   "metadata": {},
   "source": [
    "To register for sure a new model"
   ]
  },
  {
   "cell_type": "code",
   "execution_count": null,
   "id": "12e885bb-6581-4e5a-be8e-66216e309b28",
   "metadata": {},
   "outputs": [],
   "source": [
    "from mlflow import MlflowClient\n",
    "\n",
    "client = MlflowClient()\n",
    "client.create_registered_model(\"sk-learn-random-forest-reg-model\")"
   ]
  },
  {
   "cell_type": "code",
   "execution_count": null,
   "id": "edd78db3-d586-46a3-82b2-dd332f7ab07b",
   "metadata": {},
   "outputs": [],
   "source": [
    "#version\n",
    "client = MlflowClient()\n",
    "result = client.create_model_version(\n",
    "    name=\"sk-learn-random-forest-reg-model\",\n",
    "    source=\"mlruns/0/d16076a3ec534311817565e6527539c0/artifacts/sklearn-model\",\n",
    "    run_id=\"d16076a3ec534311817565e6527539c0\",\n",
    ")"
   ]
  },
  {
   "cell_type": "markdown",
   "id": "3cba1b61-9fd7-4d78-af99-41708ccfaf7c",
   "metadata": {},
   "source": [
    "## Fetching from model registry"
   ]
  },
  {
   "cell_type": "code",
   "execution_count": null,
   "id": "ae919bf7-d102-4dee-b138-18ec348b6121",
   "metadata": {},
   "outputs": [],
   "source": [
    "import mlflow.pyfunc\n",
    "\n",
    "model_name = \"sk-learn-random-forest-reg-model\"\n",
    "model_version = 1\n",
    "\n",
    "model = mlflow.pyfunc.load_model(model_uri=f\"models:/{model_name}/{model_version}\")\n",
    "\n",
    "model.predict(data)"
   ]
  },
  {
   "cell_type": "code",
   "execution_count": null,
   "id": "44af586a-c8b5-4b4a-83c8-479deb8cab62",
   "metadata": {},
   "outputs": [],
   "source": [
    "# By alias\n",
    "import mlflow.pyfunc\n",
    "\n",
    "model_name = \"sk-learn-random-forest-reg-model\"\n",
    "alias = \"champion\"\n",
    "\n",
    "champion_version = mlflow.pyfunc.load_model(f\"models:/{model_name}@{alias}\")\n",
    "\n",
    "champion_version.predict(data)"
   ]
  }
 ],
 "metadata": {
  "kernelspec": {
   "display_name": "Python 3 (ipykernel)",
   "language": "python",
   "name": "python3"
  },
  "language_info": {
   "codemirror_mode": {
    "name": "ipython",
    "version": 3
   },
   "file_extension": ".py",
   "mimetype": "text/x-python",
   "name": "python",
   "nbconvert_exporter": "python",
   "pygments_lexer": "ipython3",
   "version": "3.10.12"
  }
 },
 "nbformat": 4,
 "nbformat_minor": 5
}
